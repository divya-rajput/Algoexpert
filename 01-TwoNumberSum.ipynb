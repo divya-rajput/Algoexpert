{
 "cells": [
  {
   "attachments": {},
   "cell_type": "markdown",
   "metadata": {},
   "source": [
    "#Complexity analysis "
   ]
  },
  {
   "attachments": {},
   "cell_type": "markdown",
   "metadata": {},
   "source": [
    "##Solution- 01 Time complexity- O(n^2) Space complexity- O(1)"
   ]
  },
  {
   "cell_type": "code",
   "execution_count": null,
   "metadata": {},
   "outputs": [],
   "source": [
    "def twoNumberSum(array, targetSum):\n",
    "\tfor i in range(len(array)):\n",
    "\t\tj = len(array)-1\n",
    "\t\twhile j > i:\n",
    "\t\t\tif(array[i]+array[j])==targetSum:\n",
    "\t\t\t\treturn [array[i],array[j]]\n",
    "\t\t\telse:\n",
    "\t\t\t\tj -= 1\n",
    "\treturn []"
   ]
  },
  {
   "attachments": {},
   "cell_type": "markdown",
   "metadata": {},
   "source": [
    "##Solution- 02 Time complexity- O(n) Space complexity- O(n)"
   ]
  },
  {
   "cell_type": "code",
   "execution_count": 3,
   "metadata": {},
   "outputs": [],
   "source": [
    "def twoNumberSum2(array, targetSum):\n",
    "    numbers = []\n",
    "    table = []\n",
    "    for firstNum in array:\n",
    "        secondNum = targetSum - firstNum\n",
    "        if secondNum  in table:\n",
    "            numbers.append(firstNum)\n",
    "            numbers.append(secondNum)\n",
    "            return numbers\n",
    "        else:\n",
    "            table.append(firstNum)\n",
    "    return numbers"
   ]
  }
 ],
 "metadata": {
  "kernelspec": {
   "display_name": "Python 3",
   "language": "python",
   "name": "python3"
  },
  "language_info": {
   "codemirror_mode": {
    "name": "ipython",
    "version": 3
   },
   "file_extension": ".py",
   "mimetype": "text/x-python",
   "name": "python",
   "nbconvert_exporter": "python",
   "pygments_lexer": "ipython3",
   "version": "3.11.3"
  },
  "orig_nbformat": 4
 },
 "nbformat": 4,
 "nbformat_minor": 2
}
